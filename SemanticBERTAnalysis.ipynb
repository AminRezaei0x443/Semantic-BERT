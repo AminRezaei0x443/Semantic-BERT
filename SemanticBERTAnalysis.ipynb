{
  "nbformat": 4,
  "nbformat_minor": 0,
  "metadata": {
    "colab": {
      "name": "SemanticBERTAnalysis.ipynb",
      "provenance": []
    },
    "kernelspec": {
      "name": "python3",
      "display_name": "Python 3"
    },
    "language_info": {
      "name": "python"
    },
    "accelerator": "GPU"
  },
  "cells": [
    {
      "cell_type": "markdown",
      "metadata": {
        "id": "qXYaur5bIsp6"
      },
      "source": [
        "## Semantic Relations with BERT Features\n",
        "\n",
        "In this project we will analyze BBC News Dataset, Extract BERT Embeddings from it, Train a classification model and Find related posts for a given post. Also we demonstrate search capabilites."
      ]
    },
    {
      "cell_type": "code",
      "metadata": {
        "id": "sNOTDPgOF8Bx"
      },
      "source": [
        "import warnings\n",
        "warnings.filterwarnings(\"ignore\")"
      ],
      "execution_count": 1,
      "outputs": []
    },
    {
      "cell_type": "markdown",
      "metadata": {
        "id": "bIe7TjLdIra-"
      },
      "source": [
        "### Data Loading and BERT Feature Extracting\n",
        "We will use ALBert base model for feature inference. Data is preprocessed and needed functions are created for preprocessing and inferring Features."
      ]
    },
    {
      "cell_type": "code",
      "metadata": {
        "id": "PlR2p08pILqG"
      },
      "source": [
        "!pip install transformers"
      ],
      "execution_count": null,
      "outputs": []
    },
    {
      "cell_type": "code",
      "metadata": {
        "id": "Wqdf9droHtEg",
        "colab": {
          "base_uri": "https://localhost:8080/"
        },
        "outputId": "6a772d35-30bc-4dfb-b862-c76a8b131b50"
      },
      "source": [
        "from transformers import AutoTokenizer, AlbertModel\n",
        "tokenizer = AutoTokenizer.from_pretrained('albert-base-v2')\n",
        "modelN = AlbertModel.from_pretrained(\"albert-base-v2\")"
      ],
      "execution_count": 2,
      "outputs": [
        {
          "output_type": "stream",
          "text": [
            "Some weights of the model checkpoint at albert-base-v2 were not used when initializing AlbertModel: ['predictions.dense.weight', 'predictions.LayerNorm.bias', 'predictions.LayerNorm.weight', 'predictions.decoder.bias', 'predictions.dense.bias', 'predictions.bias', 'predictions.decoder.weight']\n",
            "- This IS expected if you are initializing AlbertModel from the checkpoint of a model trained on another task or with another architecture (e.g. initializing a BertForSequenceClassification model from a BertForPreTraining model).\n",
            "- This IS NOT expected if you are initializing AlbertModel from the checkpoint of a model that you expect to be exactly identical (initializing a BertForSequenceClassification model from a BertForSequenceClassification model).\n"
          ],
          "name": "stderr"
        }
      ]
    },
    {
      "cell_type": "code",
      "metadata": {
        "id": "d4NFNnV6IS03"
      },
      "source": [
        "import pandas as pd\n",
        "df = pd.read_csv(\"/content/drive/MyDrive/bbc_news.csv\")"
      ],
      "execution_count": 3,
      "outputs": []
    },
    {
      "cell_type": "code",
      "metadata": {
        "colab": {
          "base_uri": "https://localhost:8080/",
          "height": 112
        },
        "id": "pI2NVq1iIacb",
        "outputId": "97c65da8-cb63-467a-e593-016adffdf2d7"
      },
      "source": [
        "df.head(2)"
      ],
      "execution_count": 4,
      "outputs": [
        {
          "output_type": "execute_result",
          "data": {
            "text/html": [
              "<div>\n",
              "<style scoped>\n",
              "    .dataframe tbody tr th:only-of-type {\n",
              "        vertical-align: middle;\n",
              "    }\n",
              "\n",
              "    .dataframe tbody tr th {\n",
              "        vertical-align: top;\n",
              "    }\n",
              "\n",
              "    .dataframe thead th {\n",
              "        text-align: right;\n",
              "    }\n",
              "</style>\n",
              "<table border=\"1\" class=\"dataframe\">\n",
              "  <thead>\n",
              "    <tr style=\"text-align: right;\">\n",
              "      <th></th>\n",
              "      <th>id</th>\n",
              "      <th>article</th>\n",
              "      <th>summary</th>\n",
              "      <th>cat</th>\n",
              "    </tr>\n",
              "  </thead>\n",
              "  <tbody>\n",
              "    <tr>\n",
              "      <th>0</th>\n",
              "      <td>0</td>\n",
              "      <td>Ad sales boost Time Warner profit\\n\\nQuarterly...</td>\n",
              "      <td>TimeWarner said fourth quarter sales rose 2% t...</td>\n",
              "      <td>business</td>\n",
              "    </tr>\n",
              "    <tr>\n",
              "      <th>1</th>\n",
              "      <td>1</td>\n",
              "      <td>Dollar gains on Greenspan speech\\n\\nThe dollar...</td>\n",
              "      <td>The dollar has hit its highest level against t...</td>\n",
              "      <td>business</td>\n",
              "    </tr>\n",
              "  </tbody>\n",
              "</table>\n",
              "</div>"
            ],
            "text/plain": [
              "   id  ...       cat\n",
              "0   0  ...  business\n",
              "1   1  ...  business\n",
              "\n",
              "[2 rows x 4 columns]"
            ]
          },
          "metadata": {
            "tags": []
          },
          "execution_count": 4
        }
      ]
    },
    {
      "cell_type": "code",
      "metadata": {
        "id": "7ntCSg8UIcPK",
        "colab": {
          "base_uri": "https://localhost:8080/"
        },
        "outputId": "433e0d3d-4588-40a7-a04f-78592565c120"
      },
      "source": [
        "import nltk\n",
        "from nltk.tokenize import sent_tokenize\n",
        "\n",
        "nltk.download('punkt')"
      ],
      "execution_count": 5,
      "outputs": [
        {
          "output_type": "stream",
          "text": [
            "[nltk_data] Downloading package punkt to /root/nltk_data...\n",
            "[nltk_data]   Package punkt is already up-to-date!\n"
          ],
          "name": "stdout"
        },
        {
          "output_type": "execute_result",
          "data": {
            "text/plain": [
              "True"
            ]
          },
          "metadata": {
            "tags": []
          },
          "execution_count": 5
        }
      ]
    },
    {
      "cell_type": "code",
      "metadata": {
        "id": "UIEg47gDIiB9"
      },
      "source": [
        "modelN = modelN.cuda()"
      ],
      "execution_count": 6,
      "outputs": []
    },
    {
      "cell_type": "code",
      "metadata": {
        "id": "s4eW-Op0Im3t"
      },
      "source": [
        "import torch\n",
        "def features(text):\n",
        "    encoded_input = tokenizer(text, return_tensors='pt')\n",
        "    encoded_input = encoded_input.to('cuda')\n",
        "    output = modelN(**encoded_input)\n",
        "    return output.pooler_output\n",
        "\n",
        "def parFeatures(sentences):\n",
        "    f = []\n",
        "    for s in sentences:\n",
        "        s = s.strip(\"\\n\")\n",
        "        f.append(features(s).detach().to('cpu'))\n",
        "    return torch.cat(f)"
      ],
      "execution_count": 7,
      "outputs": []
    },
    {
      "cell_type": "code",
      "metadata": {
        "id": "BuVO_yiCBOoR"
      },
      "source": [
        "def tokenizeArticle(article):\n",
        "    sents = sent_tokenize(article)\n",
        "    x = sents[0].split(\"\\n\\n\")\n",
        "    x[0] = x[0] + \".\"\n",
        "    sents = x + sents[1:]\n",
        "    sents = map(lambda x: x.strip(\"\\n\"), sents)\n",
        "    sents = list(sents)\n",
        "    return sents"
      ],
      "execution_count": 8,
      "outputs": []
    },
    {
      "cell_type": "code",
      "metadata": {
        "id": "TA9IBbF4B6gO"
      },
      "source": [
        "df[\"tokens\"] = df.article.apply(tokenizeArticle)"
      ],
      "execution_count": 9,
      "outputs": []
    },
    {
      "cell_type": "code",
      "metadata": {
        "colab": {
          "base_uri": "https://localhost:8080/",
          "height": 142
        },
        "id": "bx4ZuEgQBBJw",
        "outputId": "0de67644-249e-44d0-f54b-88601ca7456f"
      },
      "source": [
        "df.head(3)"
      ],
      "execution_count": 10,
      "outputs": [
        {
          "output_type": "execute_result",
          "data": {
            "text/html": [
              "<div>\n",
              "<style scoped>\n",
              "    .dataframe tbody tr th:only-of-type {\n",
              "        vertical-align: middle;\n",
              "    }\n",
              "\n",
              "    .dataframe tbody tr th {\n",
              "        vertical-align: top;\n",
              "    }\n",
              "\n",
              "    .dataframe thead th {\n",
              "        text-align: right;\n",
              "    }\n",
              "</style>\n",
              "<table border=\"1\" class=\"dataframe\">\n",
              "  <thead>\n",
              "    <tr style=\"text-align: right;\">\n",
              "      <th></th>\n",
              "      <th>id</th>\n",
              "      <th>article</th>\n",
              "      <th>summary</th>\n",
              "      <th>cat</th>\n",
              "      <th>tokens</th>\n",
              "    </tr>\n",
              "  </thead>\n",
              "  <tbody>\n",
              "    <tr>\n",
              "      <th>0</th>\n",
              "      <td>0</td>\n",
              "      <td>Ad sales boost Time Warner profit\\n\\nQuarterly...</td>\n",
              "      <td>TimeWarner said fourth quarter sales rose 2% t...</td>\n",
              "      <td>business</td>\n",
              "      <td>[Ad sales boost Time Warner profit., Quarterly...</td>\n",
              "    </tr>\n",
              "    <tr>\n",
              "      <th>1</th>\n",
              "      <td>1</td>\n",
              "      <td>Dollar gains on Greenspan speech\\n\\nThe dollar...</td>\n",
              "      <td>The dollar has hit its highest level against t...</td>\n",
              "      <td>business</td>\n",
              "      <td>[Dollar gains on Greenspan speech., The dollar...</td>\n",
              "    </tr>\n",
              "    <tr>\n",
              "      <th>2</th>\n",
              "      <td>2</td>\n",
              "      <td>Yukos unit buyer faces loan claim\\n\\nThe owner...</td>\n",
              "      <td>Yukos' owner Menatep Group says it will ask Ro...</td>\n",
              "      <td>business</td>\n",
              "      <td>[Yukos unit buyer faces loan claim., The owner...</td>\n",
              "    </tr>\n",
              "  </tbody>\n",
              "</table>\n",
              "</div>"
            ],
            "text/plain": [
              "   id  ...                                             tokens\n",
              "0   0  ...  [Ad sales boost Time Warner profit., Quarterly...\n",
              "1   1  ...  [Dollar gains on Greenspan speech., The dollar...\n",
              "2   2  ...  [Yukos unit buyer faces loan claim., The owner...\n",
              "\n",
              "[3 rows x 5 columns]"
            ]
          },
          "metadata": {
            "tags": []
          },
          "execution_count": 10
        }
      ]
    },
    {
      "cell_type": "code",
      "metadata": {
        "id": "dY6ygQ1PI-at"
      },
      "source": [
        "from tqdm import tqdm"
      ],
      "execution_count": 11,
      "outputs": []
    },
    {
      "cell_type": "code",
      "metadata": {
        "id": "qL2dd-qwI6Ge",
        "colab": {
          "base_uri": "https://localhost:8080/"
        },
        "outputId": "6d999274-48ad-4eea-93b6-47cf96fd2a59"
      },
      "source": [
        "feat = {}\n",
        "c = 0\n",
        "for i in tqdm(range(len(df.tokens))):\n",
        "    try:\n",
        "        feat[i] = parFeatures(df.tokens.iloc[i])\n",
        "    except:\n",
        "        feat[i] = 0\n",
        "        c += 1\n",
        "print(\"error count in bert embeddings: \", c)"
      ],
      "execution_count": 18,
      "outputs": [
        {
          "output_type": "stream",
          "text": [
            " 80%|████████  | 1789/2225 [06:49<01:50,  3.96it/s]Token indices sequence length is longer than the specified maximum sequence length for this model (649 > 512). Running this sequence through the model will result in indexing errors\n",
            "100%|██████████| 2225/2225 [09:02<00:00,  4.10it/s]"
          ],
          "name": "stderr"
        },
        {
          "output_type": "stream",
          "text": [
            "error count in bert embeddings:  1\n"
          ],
          "name": "stdout"
        },
        {
          "output_type": "stream",
          "text": [
            "\n"
          ],
          "name": "stderr"
        }
      ]
    },
    {
      "cell_type": "markdown",
      "metadata": {
        "id": "ipdPqVcwReeE"
      },
      "source": [
        "#### Utility for saving the embeddings as inferring features for whole data takes time "
      ]
    },
    {
      "cell_type": "code",
      "metadata": {
        "id": "q--DzFhMN9nK"
      },
      "source": [
        "import joblib\n",
        "joblib.dump(feat,\"bbc-token-features.data\")"
      ],
      "execution_count": null,
      "outputs": []
    },
    {
      "cell_type": "code",
      "metadata": {
        "id": "p4x670k6SWMA"
      },
      "source": [
        "import joblib\n",
        "feat = joblib.load(\"/content/drive/MyDrive/bbc-token-features.data\")"
      ],
      "execution_count": 13,
      "outputs": []
    },
    {
      "cell_type": "markdown",
      "metadata": {
        "id": "bmetruRzRwZq"
      },
      "source": [
        "#### Prepare input tensors"
      ]
    },
    {
      "cell_type": "code",
      "metadata": {
        "id": "YNOrtPlfWdZG"
      },
      "source": [
        "t = list(feat.keys())\n",
        "t.sort()\n",
        "keyList = list(filter(lambda x: type(feat[x]) == torch.Tensor, t))\n",
        "r = list(map(lambda c: feat[c], keyList))"
      ],
      "execution_count": 14,
      "outputs": []
    },
    {
      "cell_type": "code",
      "metadata": {
        "id": "bVyKnURWPf0l"
      },
      "source": [
        "X_s = torch.cat(r)"
      ],
      "execution_count": 15,
      "outputs": []
    },
    {
      "cell_type": "code",
      "metadata": {
        "id": "reQyQ26tfxpy"
      },
      "source": [
        "X = torch.cat(list(map(lambda x: x.mean(axis=0).reshape(1, -1), r)))"
      ],
      "execution_count": 16,
      "outputs": []
    },
    {
      "cell_type": "code",
      "metadata": {
        "colab": {
          "base_uri": "https://localhost:8080/"
        },
        "id": "eBpvQcAcP9el",
        "outputId": "42620695-548a-4e85-d09f-5385ceaeb7fd"
      },
      "source": [
        "# Tensor of pooled articles\n",
        "X.shape"
      ],
      "execution_count": 17,
      "outputs": [
        {
          "output_type": "execute_result",
          "data": {
            "text/plain": [
              "torch.Size([2224, 768])"
            ]
          },
          "metadata": {
            "tags": []
          },
          "execution_count": 17
        }
      ]
    },
    {
      "cell_type": "code",
      "metadata": {
        "colab": {
          "base_uri": "https://localhost:8080/"
        },
        "id": "Q_UV4-P6RucC",
        "outputId": "def1a0c3-74bb-4135-e1b3-82d9aa9c65b8"
      },
      "source": [
        "# Tensor of article sentences\n",
        "X_s.shape"
      ],
      "execution_count": 18,
      "outputs": [
        {
          "output_type": "execute_result",
          "data": {
            "text/plain": [
              "torch.Size([43641, 768])"
            ]
          },
          "metadata": {
            "tags": []
          },
          "execution_count": 18
        }
      ]
    },
    {
      "cell_type": "code",
      "metadata": {
        "id": "r-boqsG_ZCZ_"
      },
      "source": [
        "# Dataframe for articles\n",
        "ndf = df.iloc[keyList]\n",
        "# Dataframe for sentences\n",
        "sdf = ndf.explode('tokens')[[\"id\", \"tokens\", \"cat\"]]"
      ],
      "execution_count": 19,
      "outputs": []
    },
    {
      "cell_type": "markdown",
      "metadata": {
        "id": "XegCiFi0YC8Y"
      },
      "source": [
        "#### Model Training Utilities"
      ]
    },
    {
      "cell_type": "code",
      "metadata": {
        "id": "hVGs_4hDg2-c"
      },
      "source": [
        "import torch\n",
        "import torch.nn as nn\n",
        "import torch.nn.functional as F\n",
        "import torch.optim as optim\n",
        "import numpy as np\n",
        "from tqdm import tqdm\n",
        "from torchvision import datasets, transforms"
      ],
      "execution_count": 20,
      "outputs": []
    },
    {
      "cell_type": "code",
      "metadata": {
        "id": "nC_-kVOVg3YS"
      },
      "source": [
        "import torch\n",
        "class GlobalManager:\n",
        "    def __init__(self, use_gpu=False, log_state=False):\n",
        "        self.use_gpu = use_gpu\n",
        "        self.log_state = log_state\n",
        "        self.cpu_d = torch.device(\"cpu\")\n",
        "        self.device = torch.device(\"cuda\") if use_gpu else self.cpu\n",
        "        pass\n",
        "\n",
        "    def is_gpu(self):\n",
        "        return self.use_gpu\n",
        "    \n",
        "    def current(self):\n",
        "        return self.device\n",
        "\n",
        "    def cpu(self):\n",
        "        return self.cpu_d\n",
        "    \n",
        "    def log(self, msg):\n",
        "        if self.log_state:\n",
        "            print(msg)"
      ],
      "execution_count": 21,
      "outputs": []
    },
    {
      "cell_type": "code",
      "metadata": {
        "id": "CHdReYpOg4bB"
      },
      "source": [
        "class ExecutionEvents:\n",
        "    def __init__(self):\n",
        "        pass\n",
        "\n",
        "    def set_model(self, model, optimizer):\n",
        "        self.model = model\n",
        "        self.optimizer = optimizer\n",
        "\n",
        "    def on_epoch_start(self, epoch, **kwargs):\n",
        "        if hasattr(self, 'es'):\n",
        "            self.es(epoch, **kwargs)\n",
        "        pass\n",
        "    \n",
        "    def on_epoch_end(self, epoch, losses, avg_loss, **kwargs):\n",
        "        if hasattr(self, 'ee'):\n",
        "            self.ee(epoch, losses, avg_loss, **kwargs)\n",
        "        pass\n",
        "\n",
        "    def on_batch_processed(self, epoch, batch, loss, **kwargs):\n",
        "        if hasattr(self, 'bp'):\n",
        "            self.bp(epoch, batch, loss, **kwargs)\n",
        "        pass\n",
        "\n",
        "    def on_validated(self, epoch, loss, **kwargs):\n",
        "        if hasattr(self, 'v'):\n",
        "            self.v(epoch, loss, **kwargs)\n",
        "        pass\n",
        "\n",
        "    def attach_epoch_start(self, func):\n",
        "        self.es = func\n",
        "        pass\n",
        "    \n",
        "    def attach_epoch_end(self, func):\n",
        "        self.ee = func\n",
        "        pass\n",
        "\n",
        "    def attach_batch_processed(self, func):\n",
        "        self.bp = func\n",
        "        pass\n",
        "\n",
        "    def attach_validated(self, func):\n",
        "        self.v = func\n",
        "        pass\n",
        "    "
      ],
      "execution_count": 22,
      "outputs": []
    },
    {
      "cell_type": "code",
      "metadata": {
        "id": "1TG_xpwfg5f0"
      },
      "source": [
        "class PreprocessingDataLoader:\n",
        "    def __init__(self, dl, func):\n",
        "        self.dl = dl\n",
        "        self.func = func\n",
        "\n",
        "    def __len__(self):\n",
        "        return len(self.dl)\n",
        "\n",
        "    def __iter__(self):\n",
        "        batches = iter(self.dl)\n",
        "        for b in batches:\n",
        "            yield (self.func(*b))"
      ],
      "execution_count": 23,
      "outputs": []
    },
    {
      "cell_type": "code",
      "metadata": {
        "id": "f9p1MEX3g6bF"
      },
      "source": [
        "class EarlyStopping(object):\n",
        "    def __init__(self, mode='min', min_delta=0, patience=10, percentage=False):\n",
        "        self.mode = mode\n",
        "        self.min_delta = min_delta\n",
        "        self.patience = patience\n",
        "        self.best = None\n",
        "        self.num_bad_epochs = 0\n",
        "        self.is_better = None\n",
        "        self._init_is_better(mode, min_delta, percentage)\n",
        "\n",
        "        if patience == 0:\n",
        "            self.is_better = lambda a, b: True\n",
        "            self.step = lambda a: False\n",
        "\n",
        "    def step(self, metrics):\n",
        "        if self.best is None:\n",
        "            self.best = metrics\n",
        "            return False\n",
        "\n",
        "        if torch.isnan(metrics):\n",
        "            return True\n",
        "\n",
        "        if self.is_better(metrics, self.best):\n",
        "            self.num_bad_epochs = 0\n",
        "            self.best = metrics\n",
        "        else:\n",
        "            self.num_bad_epochs += 1\n",
        "\n",
        "        if self.num_bad_epochs >= self.patience:\n",
        "            return True\n",
        "\n",
        "        return False\n",
        "\n",
        "    def _init_is_better(self, mode, min_delta, percentage):\n",
        "        if mode not in {'min', 'max'}:\n",
        "            raise ValueError('mode ' + mode + ' is unknown!')\n",
        "        if not percentage:\n",
        "            if mode == 'min':\n",
        "                self.is_better = lambda a, best: a < best - min_delta\n",
        "            if mode == 'max':\n",
        "                self.is_better = lambda a, best: a > best + min_delta\n",
        "        else:\n",
        "            if mode == 'min':\n",
        "                self.is_better = lambda a, best: a < best - (\n",
        "                            best * min_delta / 100)\n",
        "            if mode == 'max':\n",
        "                self.is_better = lambda a, best: a > best + (\n",
        "                            best * min_delta / 100)"
      ],
      "execution_count": 24,
      "outputs": []
    },
    {
      "cell_type": "code",
      "metadata": {
        "id": "OD88OLKlg7cI"
      },
      "source": [
        "from tqdm import tqdm\n",
        "import torch.nn\n",
        "import torch\n",
        "from torch.utils.data import DataLoader, random_split\n",
        "\n",
        "class Executor:\n",
        "    def __init__(self, model, manager):\n",
        "        self.model = model.to(manager.current())\n",
        "        self.manager = manager\n",
        "    \n",
        "    def configure(self, optimizer, loss=\"cross_entropy\", preprocessor=None):\n",
        "        self.optimizer = optimizer\n",
        "        if isinstance(loss, str):\n",
        "            if loss == \"mse\":\n",
        "                self.criterion = F.mse_loss\n",
        "            elif loss == \"cross_entropy\":\n",
        "                self.criterion = F.cross_entropy\n",
        "            else:\n",
        "                raise Exception(\"Undefined loss func, use function or nn.Module instead!\")\n",
        "        elif isinstance(loss, nn.Module) or type(loss).__name__ == \"function\":\n",
        "            self.criterion = loss\n",
        "        else:\n",
        "            raise Exception(\"loss parameter must be string, function or nn.Module!\")\n",
        "        \n",
        "        if preprocessor is None:\n",
        "            self.preproc = False\n",
        "            pass\n",
        "        elif type(preprocessor).__name__ == \"function\":\n",
        "            self.preproc = True\n",
        "            self.preprocessor = preprocessor\n",
        "        else:\n",
        "            raise Exception(\"Preprocessor type not recognized!\")\n",
        "\n",
        "    def train(self, train_dataset, epochs, val_split=0.15, train_batch=32, val_batch=32,\n",
        "              event_listener=None, progress=True, metrics={},\n",
        "              early_stopping=False, patience=5):\n",
        "        total = len(train_dataset)\n",
        "        val_count = int(val_split * total)\n",
        "        self.train_set, self.val_set = random_split(train_dataset, (total - val_count, val_count))\n",
        "\n",
        "        train_loader = DataLoader(self.train_set, batch_size=train_batch, shuffle=True)\n",
        "        val_loader = DataLoader(self.val_set, batch_size=val_batch, shuffle=True)\n",
        "\n",
        "        if self.preproc:\n",
        "            train_loader = PreprocessingDataLoader(train_loader, self.preprocessor)\n",
        "            val_loader = PreprocessingDataLoader(val_loader, self.preprocessor)\n",
        "        event_listener = ExecutionEvents() if event_listener is None else event_listener\n",
        "        event_listener.set_model(self.model, self.optimizer)\n",
        "        if early_stopping:\n",
        "            self.es = EarlyStopping(patience=patience)\n",
        "        for i in range(epochs):\n",
        "            #Training an epoch\n",
        "            model.train()\n",
        "            losses = {}\n",
        "            metrics_v = {}\n",
        "            for metric in metrics:\n",
        "                metrics_v[metric] = {}\n",
        "            it = enumerate(train_loader)\n",
        "            it = tqdm(it, total=len(train_loader), position=0) if progress else it\n",
        "            if progress:\n",
        "                it.set_description('Epoch %d' % i)\n",
        "            event_listener.on_epoch_start(i)\n",
        "            for batch_idx, (data, target) in it:\n",
        "                data, target = data.to(self.manager.current()), target.to(self.manager.current())\n",
        "                def fwd():\n",
        "                    self.optimizer.zero_grad()\n",
        "                    output = self.model(data)\n",
        "                    loss = self.criterion(output, target)\n",
        "                    losses[batch_idx] = loss.item()\n",
        "                    for metric in metrics:\n",
        "                        metrics_v[metric][batch_idx] = metrics[metric](output, target).item()\n",
        "                    loss.backward(create_graph=True)\n",
        "                    return loss, output\n",
        "                self.optimizer.step(closure=fwd)\n",
        "                event_listener.on_batch_processed(i, batch_idx, losses[batch_idx])\n",
        "                if progress:\n",
        "                    m_mean = {k: np.mean(list(metrics_v[k].values())) for k in metrics}\n",
        "                    it.set_postfix(batch=batch_idx, loss=losses[batch_idx], mean_loss=np.mean(list(losses.values())),\n",
        "                                  **m_mean)\n",
        "            if progress:\n",
        "                it.close()\n",
        "            ls = list(losses.values())\n",
        "            m_mean = {k: np.mean(list(metrics_v[k].values())) for k in metrics}\n",
        "            m_all = {k+\"_all\": list(metrics_v[k].values()) for k in metrics}\n",
        "            event_listener.on_epoch_end(i, ls, np.mean(ls), **m_mean, **m_all)\n",
        "            #Validating an epoch\n",
        "            model.eval()\n",
        "\n",
        "            it = val_loader\n",
        "            it = tqdm(it, total=len(val_loader), position=0) if progress else it\n",
        "            if progress:\n",
        "                it.set_description('Validating Epoch %d' % i)\n",
        "\n",
        "            loss_val = []\n",
        "            metrics_val = {}\n",
        "            for metric in metrics:\n",
        "                metrics_val[metric] = []\n",
        "            with torch.no_grad():\n",
        "                for data, target in it:\n",
        "                    data, target = data.to(self.manager.current()), target.to(self.manager.current())\n",
        "                    output = self.model(data)\n",
        "                    loss = self.criterion(output, target)\n",
        "                    loss = loss.item()\n",
        "                    loss_val.append(loss)\n",
        "                    for metric in metrics:\n",
        "                        metrics_val[metric].append(metrics[metric](output, target).item())\n",
        "                    if progress:\n",
        "                        m_mean = {k: np.mean(metrics_val[k]) for k in metrics}\n",
        "                        it.set_postfix(loss=loss, mean_loss=np.mean(loss_val),\n",
        "                                    **m_mean)\n",
        "            m_mean = {k: np.mean(metrics_val[k]) for k in metrics}\n",
        "            m_all = {k+\"_all\": metrics_val[k] for k in metrics}\n",
        "            event_listener.on_validated(i, np.mean(loss_val), **m_mean, **m_all)\n",
        "            if early_stopping:\n",
        "                if self.es.step(torch.tensor(np.mean(loss_val))):\n",
        "                    break\n",
        "            if progress:\n",
        "                it.close()\n",
        "    def eval(self, test_dataset, batch_size=32, progress=True, metrics={}):\n",
        "        test_loader = DataLoader(test_dataset, batch_size=batch_size, shuffle=True)\n",
        "\n",
        "        if self.preproc:\n",
        "            test_loader = PreprocessingDataLoader(test_loader, self.preprocessor)\n",
        "\n",
        "        model.eval()\n",
        "\n",
        "        it = test_loader\n",
        "        it = tqdm(it, total=len(test_loader), position=0) if progress else it\n",
        "        if progress:\n",
        "            it.set_description(\"Evaluating\")\n",
        "\n",
        "        loss_val = []\n",
        "        metrics_val = {}\n",
        "        for metric in metrics:\n",
        "            metrics_val[metric] = []\n",
        "        outs = []\n",
        "        with torch.no_grad():\n",
        "            for data, target in it:\n",
        "                data, target = data.to(self.manager.current()), target.to(self.manager.current())\n",
        "                output = self.model(data)\n",
        "                outs.append(output)\n",
        "                loss = self.criterion(output, target).item()\n",
        "                loss_val.append(loss)\n",
        "                for metric in metrics:\n",
        "                    metrics_val[metric].append(metrics[metric](output, target).item())\n",
        "                if progress:\n",
        "                    m_mean = {k: np.mean(metrics_val[k]) for k in metrics}\n",
        "                    it.set_postfix(loss=loss, mean_loss=np.mean(loss_val),\n",
        "                                **m_mean)\n",
        "        m_mean = {k: np.mean(metrics_val[k]) for k in metrics}\n",
        "        m_mean[\"loss\"] = np.mean(loss_val)\n",
        "        if progress:\n",
        "            it.close()\n",
        "        return torch.cat(outs), m_mean"
      ],
      "execution_count": 25,
      "outputs": []
    },
    {
      "cell_type": "code",
      "metadata": {
        "id": "tD3-TpeNg-V0"
      },
      "source": [
        "def accuracy(pred, gt):\n",
        "    pred = pred.argmax(dim=1, keepdim=True)\n",
        "    correct = pred.eq(gt.view_as(pred)).sum()\n",
        "    return correct.float()/pred.shape[0]\n",
        "\n",
        "def loss(predicted, ground_truth):\n",
        "    return F.nll_loss(predicted, ground_truth)\n",
        "\n",
        "def loss_n(model, lambda_):\n",
        "    def loss(predicted, ground_truth):\n",
        "        return F.nll_loss(predicted, ground_truth)\n",
        "    return loss"
      ],
      "execution_count": 26,
      "outputs": []
    },
    {
      "cell_type": "code",
      "metadata": {
        "id": "t2B0bsGug_2X"
      },
      "source": [
        "use_cuda = torch.cuda.is_available()\n",
        "device = torch.device(\"cuda\" if use_cuda else \"cpu\")"
      ],
      "execution_count": 27,
      "outputs": []
    },
    {
      "cell_type": "code",
      "metadata": {
        "id": "BmgI5b15hFS9"
      },
      "source": [
        "class ConcatDataset(torch.utils.data.Dataset):\n",
        "    def __init__(self, *datasets):\n",
        "        self.datasets = datasets\n",
        "\n",
        "    def __getitem__(self, i):\n",
        "        return tuple(d[i] for d in self.datasets)\n",
        "\n",
        "    def __len__(self):\n",
        "        return min(len(d) for d in self.datasets)"
      ],
      "execution_count": 28,
      "outputs": []
    },
    {
      "cell_type": "markdown",
      "metadata": {
        "id": "YTJWSOoGYHBe"
      },
      "source": [
        "### Neural Network Design and Training for Classification"
      ]
    },
    {
      "cell_type": "code",
      "metadata": {
        "id": "4bArZOXuhHbL"
      },
      "source": [
        "class CatNet(nn.Module):\n",
        "    def __init__(self, dropout=False):\n",
        "        super(CatNet, self).__init__()\n",
        "\n",
        "        self.fc1 = nn.Linear(768, 512)\n",
        "        self.fc2 = nn.Linear(512, 256)\n",
        "        self.fc3 = nn.Linear(256, 5)\n",
        "\n",
        "        self.dropout = dropout\n",
        "        self.dropout1 = nn.Dropout2d(0.2)\n",
        "        self.dropout2 = nn.Dropout2d(0.1)\n",
        "        self.softmax = nn.LogSoftmax()\n",
        "\n",
        "    def forward(self, x):\n",
        "        x = self.fc1(x)\n",
        "        x = F.relu(x)\n",
        "\n",
        "        if self.dropout:\n",
        "            x = self.dropout1(x)\n",
        "        x = self.fc2(x)\n",
        "        if self.dropout:\n",
        "            x = self.dropout2(x)\n",
        "        x = F.relu(x)\n",
        "        x = self.fc3(x)\n",
        "        x = self.softmax(x)\n",
        "        return x"
      ],
      "execution_count": 29,
      "outputs": []
    },
    {
      "cell_type": "code",
      "metadata": {
        "id": "2Kn2eJMih-O6"
      },
      "source": [
        "from sklearn.preprocessing import LabelEncoder\n",
        "enc = LabelEncoder()\n",
        "\n",
        "ndf[\"catn\"] = enc.fit_transform(ndf.cat)\n",
        "sdf[\"catn\"] = enc.fit_transform(sdf.cat)"
      ],
      "execution_count": 30,
      "outputs": []
    },
    {
      "cell_type": "code",
      "metadata": {
        "id": "vFJv9kcwS3G7"
      },
      "source": [
        "from sklearn.model_selection import train_test_split\n",
        "\n",
        "# y = torch.tensor(ndf.catn.to_numpy())\n",
        "y = torch.tensor(sdf.catn.to_numpy())\n",
        "X_train, X_test, y_train, y_test = train_test_split(X_s, y, test_size=0.2)"
      ],
      "execution_count": 31,
      "outputs": []
    },
    {
      "cell_type": "code",
      "metadata": {
        "id": "h2arFp4OjsFR"
      },
      "source": [
        "from torch.utils.data import Dataset\n",
        "\n",
        "class EasyDataset(Dataset):\n",
        "    def __init__(self, X, y):\n",
        "        self.X = X\n",
        "        self.y = y\n",
        "\n",
        "    def __len__(self):\n",
        "        return len(self.y)\n",
        "\n",
        "    def __getitem__(self, idx):\n",
        "        if torch.is_tensor(idx):\n",
        "            idx = idx.tolist()\n",
        "        return self.X[idx], self.y[idx]"
      ],
      "execution_count": 32,
      "outputs": []
    },
    {
      "cell_type": "code",
      "metadata": {
        "id": "Xh--awbjUm6w"
      },
      "source": [
        "# Load Previous State\n",
        "model = CatNet(dropout=True)\n",
        "model.load_state_dict(torch.load(\"catnet.bin\")())\n",
        "model = model.cuda()\n",
        "\n",
        "data = joblib.load(\"train-state.data\")"
      ],
      "execution_count": 33,
      "outputs": []
    },
    {
      "cell_type": "code",
      "metadata": {
        "colab": {
          "base_uri": "https://localhost:8080/"
        },
        "id": "x-etuznjhgpt",
        "outputId": "0ad6a371-cd15-4d8d-a1b7-c3b4e4896df0"
      },
      "source": [
        "import torch.optim as optim\n",
        "\n",
        "data = {\n",
        "    \"losses\": [],\n",
        "    \"val_losses\":[],\n",
        "    \"acc\":[],\n",
        "    \"val_acc\":[],\n",
        "}\n",
        "\n",
        "model = CatNet(dropout=True)\n",
        "train_set = EasyDataset(X_train, y_train)\n",
        "test_set = EasyDataset(X_test, y_test)\n",
        "executor = Executor(model, GlobalManager(use_gpu=True, log_state=True))\n",
        "optimizer = optim.Adam(model.parameters(), lr=0.001)\n",
        "executor.configure(optimizer, loss_n(model, 0), preprocessor=None)\n",
        "listener = ExecutionEvents()\n",
        "\n",
        "def vd(ep, loss, **kw):\n",
        "    data[\"val_losses\"].append(loss)\n",
        "    data[\"val_acc\"].append(kw[\"acc_all\"])\n",
        "\n",
        "def ee(ep, loss, avg, **kw):\n",
        "    data[\"losses\"].append(loss)\n",
        "    data[\"acc\"].append(kw[\"acc_all\"])\n",
        "\n",
        "listener.attach_validated(vd)\n",
        "listener.attach_epoch_end(ee)\n",
        "\n",
        "executor.train(train_set, 150, train_batch=48, val_batch=64,\n",
        "                early_stopping=True, patience=12,\n",
        "                event_listener=listener, metrics={\"acc\":accuracy})\n",
        "\n",
        "res, data[\"info\"] = executor.eval(test_set, batch_size=64, metrics={\"acc\":accuracy})"
      ],
      "execution_count": 39,
      "outputs": [
        {
          "output_type": "stream",
          "text": [
            "Epoch 0: 100%|██████████| 619/619 [00:03<00:00, 167.16it/s, acc=0.598, batch=618, loss=0.866, mean_loss=1.02]\n",
            "Validating Epoch 0: 100%|██████████| 82/82 [00:00<00:00, 235.60it/s, acc=0.694, loss=0.763, mean_loss=0.826]\n",
            "Epoch 1: 100%|██████████| 619/619 [00:03<00:00, 175.66it/s, acc=0.694, batch=618, loss=0.427, mean_loss=0.817]\n",
            "Validating Epoch 1: 100%|██████████| 82/82 [00:00<00:00, 235.23it/s, acc=0.685, loss=0.823, mean_loss=0.87]\n",
            "Epoch 2: 100%|██████████| 619/619 [00:03<00:00, 177.85it/s, acc=0.711, batch=618, loss=0.657, mean_loss=0.78]\n",
            "Validating Epoch 2: 100%|██████████| 82/82 [00:00<00:00, 224.91it/s, acc=0.728, loss=0.794, mean_loss=0.749]\n",
            "Epoch 3: 100%|██████████| 619/619 [00:03<00:00, 175.86it/s, acc=0.724, batch=618, loss=0.73, mean_loss=0.748]\n",
            "Validating Epoch 3: 100%|██████████| 82/82 [00:00<00:00, 213.02it/s, acc=0.742, loss=0.778, mean_loss=0.713]\n",
            "Epoch 4: 100%|██████████| 619/619 [00:03<00:00, 175.77it/s, acc=0.73, batch=618, loss=0.759, mean_loss=0.73]\n",
            "Validating Epoch 4: 100%|██████████| 82/82 [00:00<00:00, 229.39it/s, acc=0.736, loss=0.62, mean_loss=0.709]\n",
            "Epoch 5: 100%|██████████| 619/619 [00:03<00:00, 174.94it/s, acc=0.734, batch=618, loss=1.07, mean_loss=0.718]\n",
            "Validating Epoch 5: 100%|██████████| 82/82 [00:00<00:00, 245.64it/s, acc=0.716, loss=0.906, mean_loss=0.761]\n",
            "Epoch 6: 100%|██████████| 619/619 [00:03<00:00, 171.92it/s, acc=0.736, batch=618, loss=0.457, mean_loss=0.716]\n",
            "Validating Epoch 6: 100%|██████████| 82/82 [00:00<00:00, 243.87it/s, acc=0.752, loss=0.582, mean_loss=0.67]\n",
            "Epoch 7: 100%|██████████| 619/619 [00:03<00:00, 174.28it/s, acc=0.741, batch=618, loss=0.601, mean_loss=0.706]\n",
            "Validating Epoch 7: 100%|██████████| 82/82 [00:00<00:00, 230.89it/s, acc=0.75, loss=0.614, mean_loss=0.686]\n",
            "Epoch 8: 100%|██████████| 619/619 [00:03<00:00, 172.79it/s, acc=0.739, batch=618, loss=0.952, mean_loss=0.705]\n",
            "Validating Epoch 8: 100%|██████████| 82/82 [00:00<00:00, 242.94it/s, acc=0.751, loss=0.512, mean_loss=0.679]\n",
            "Epoch 9: 100%|██████████| 619/619 [00:03<00:00, 172.84it/s, acc=0.738, batch=618, loss=0.883, mean_loss=0.709]\n",
            "Validating Epoch 9: 100%|██████████| 82/82 [00:00<00:00, 234.18it/s, acc=0.74, loss=0.89, mean_loss=0.701]\n",
            "Epoch 10: 100%|██████████| 619/619 [00:03<00:00, 173.79it/s, acc=0.74, batch=618, loss=0.981, mean_loss=0.703]\n",
            "Validating Epoch 10: 100%|██████████| 82/82 [00:00<00:00, 226.44it/s, acc=0.746, loss=0.598, mean_loss=0.693]\n",
            "Epoch 11: 100%|██████████| 619/619 [00:03<00:00, 171.50it/s, acc=0.744, batch=618, loss=0.342, mean_loss=0.695]\n",
            "Validating Epoch 11: 100%|██████████| 82/82 [00:00<00:00, 232.35it/s, acc=0.738, loss=0.909, mean_loss=0.693]\n",
            "Epoch 12: 100%|██████████| 619/619 [00:03<00:00, 169.07it/s, acc=0.746, batch=618, loss=1.14, mean_loss=0.69]\n",
            "Validating Epoch 12: 100%|██████████| 82/82 [00:00<00:00, 230.65it/s, acc=0.749, loss=0.743, mean_loss=0.672]\n",
            "Epoch 13: 100%|██████████| 619/619 [00:03<00:00, 163.67it/s, acc=0.752, batch=618, loss=1.07, mean_loss=0.677]\n",
            "Validating Epoch 13: 100%|██████████| 82/82 [00:00<00:00, 229.38it/s, acc=0.748, loss=0.615, mean_loss=0.688]\n",
            "Epoch 14: 100%|██████████| 619/619 [00:03<00:00, 167.16it/s, acc=0.753, batch=618, loss=0.767, mean_loss=0.672]\n",
            "Validating Epoch 14: 100%|██████████| 82/82 [00:00<00:00, 236.69it/s, acc=0.743, loss=0.896, mean_loss=0.676]\n",
            "Epoch 15: 100%|██████████| 619/619 [00:03<00:00, 168.13it/s, acc=0.752, batch=618, loss=0.764, mean_loss=0.672]\n",
            "Validating Epoch 15: 100%|██████████| 82/82 [00:00<00:00, 227.08it/s, acc=0.753, loss=0.744, mean_loss=0.67]\n",
            "Epoch 16: 100%|██████████| 619/619 [00:03<00:00, 170.59it/s, acc=0.756, batch=618, loss=0.735, mean_loss=0.665]\n",
            "Validating Epoch 16: 100%|██████████| 82/82 [00:00<00:00, 225.92it/s, acc=0.747, loss=0.807, mean_loss=0.688]\n",
            "Epoch 17: 100%|██████████| 619/619 [00:03<00:00, 168.04it/s, acc=0.755, batch=618, loss=0.712, mean_loss=0.667]\n",
            "Validating Epoch 17: 100%|██████████| 82/82 [00:00<00:00, 226.19it/s, acc=0.761, loss=0.48, mean_loss=0.644]\n",
            "Epoch 18: 100%|██████████| 619/619 [00:03<00:00, 163.22it/s, acc=0.757, batch=618, loss=0.884, mean_loss=0.661]\n",
            "Validating Epoch 18: 100%|██████████| 82/82 [00:00<00:00, 206.79it/s, acc=0.763, loss=0.768, mean_loss=0.643]\n",
            "Epoch 19: 100%|██████████| 619/619 [00:03<00:00, 164.57it/s, acc=0.758, batch=618, loss=0.319, mean_loss=0.659]\n",
            "Validating Epoch 19: 100%|██████████| 82/82 [00:00<00:00, 237.01it/s, acc=0.767, loss=0.611, mean_loss=0.643]\n",
            "Epoch 20: 100%|██████████| 619/619 [00:03<00:00, 167.79it/s, acc=0.756, batch=618, loss=0.537, mean_loss=0.662]\n",
            "Validating Epoch 20: 100%|██████████| 82/82 [00:00<00:00, 226.77it/s, acc=0.724, loss=0.47, mean_loss=0.735]\n",
            "Epoch 21: 100%|██████████| 619/619 [00:03<00:00, 163.23it/s, acc=0.755, batch=618, loss=0.482, mean_loss=0.665]\n",
            "Validating Epoch 21: 100%|██████████| 82/82 [00:00<00:00, 240.34it/s, acc=0.761, loss=0.727, mean_loss=0.641]\n",
            "Epoch 22: 100%|██████████| 619/619 [00:03<00:00, 165.68it/s, acc=0.759, batch=618, loss=0.905, mean_loss=0.655]\n",
            "Validating Epoch 22: 100%|██████████| 82/82 [00:00<00:00, 240.97it/s, acc=0.747, loss=0.686, mean_loss=0.687]\n",
            "Epoch 23: 100%|██████████| 619/619 [00:03<00:00, 164.29it/s, acc=0.76, batch=618, loss=0.406, mean_loss=0.653]\n",
            "Validating Epoch 23: 100%|██████████| 82/82 [00:00<00:00, 227.34it/s, acc=0.761, loss=0.668, mean_loss=0.639]\n",
            "Epoch 24: 100%|██████████| 619/619 [00:03<00:00, 161.75it/s, acc=0.763, batch=618, loss=0.422, mean_loss=0.651]\n",
            "Validating Epoch 24: 100%|██████████| 82/82 [00:00<00:00, 219.94it/s, acc=0.749, loss=0.567, mean_loss=0.665]\n",
            "Epoch 25: 100%|██████████| 619/619 [00:03<00:00, 165.70it/s, acc=0.765, batch=618, loss=0.67, mean_loss=0.65]\n",
            "Validating Epoch 25: 100%|██████████| 82/82 [00:00<00:00, 244.57it/s, acc=0.759, loss=0.728, mean_loss=0.648]\n",
            "Epoch 26: 100%|██████████| 619/619 [00:03<00:00, 161.79it/s, acc=0.765, batch=618, loss=0.663, mean_loss=0.643]\n",
            "Validating Epoch 26: 100%|██████████| 82/82 [00:00<00:00, 211.35it/s, acc=0.763, loss=0.654, mean_loss=0.636]\n",
            "Epoch 27: 100%|██████████| 619/619 [00:03<00:00, 159.33it/s, acc=0.764, batch=618, loss=0.781, mean_loss=0.64]\n",
            "Validating Epoch 27: 100%|██████████| 82/82 [00:00<00:00, 233.50it/s, acc=0.759, loss=0.433, mean_loss=0.652]\n",
            "Epoch 28: 100%|██████████| 619/619 [00:03<00:00, 161.45it/s, acc=0.766, batch=618, loss=0.19, mean_loss=0.638]\n",
            "Validating Epoch 28: 100%|██████████| 82/82 [00:00<00:00, 221.66it/s, acc=0.754, loss=0.687, mean_loss=0.668]\n",
            "Epoch 29: 100%|██████████| 619/619 [00:03<00:00, 165.09it/s, acc=0.768, batch=618, loss=0.771, mean_loss=0.639]\n",
            "Validating Epoch 29: 100%|██████████| 82/82 [00:00<00:00, 242.72it/s, acc=0.77, loss=0.628, mean_loss=0.635]\n",
            "Epoch 30: 100%|██████████| 619/619 [00:03<00:00, 161.10it/s, acc=0.767, batch=618, loss=0.636, mean_loss=0.635]\n",
            "Validating Epoch 30: 100%|██████████| 82/82 [00:00<00:00, 239.47it/s, acc=0.77, loss=0.638, mean_loss=0.626]\n",
            "Epoch 31: 100%|██████████| 619/619 [00:03<00:00, 161.30it/s, acc=0.773, batch=618, loss=0.813, mean_loss=0.625]\n",
            "Validating Epoch 31: 100%|██████████| 82/82 [00:00<00:00, 250.30it/s, acc=0.769, loss=0.439, mean_loss=0.623]\n",
            "Epoch 32: 100%|██████████| 619/619 [00:03<00:00, 159.76it/s, acc=0.769, batch=618, loss=0.471, mean_loss=0.628]\n",
            "Validating Epoch 32: 100%|██████████| 82/82 [00:00<00:00, 283.10it/s, acc=0.765, loss=0.714, mean_loss=0.641]\n",
            "Epoch 33: 100%|██████████| 619/619 [00:03<00:00, 159.57it/s, acc=0.769, batch=618, loss=0.824, mean_loss=0.631]\n",
            "Validating Epoch 33: 100%|██████████| 82/82 [00:00<00:00, 240.41it/s, acc=0.772, loss=0.614, mean_loss=0.625]\n",
            "Epoch 34: 100%|██████████| 619/619 [00:03<00:00, 156.85it/s, acc=0.769, batch=618, loss=0.291, mean_loss=0.631]\n",
            "Validating Epoch 34: 100%|██████████| 82/82 [00:00<00:00, 224.30it/s, acc=0.764, loss=0.609, mean_loss=0.625]\n",
            "Epoch 35: 100%|██████████| 619/619 [00:03<00:00, 163.64it/s, acc=0.771, batch=618, loss=0.586, mean_loss=0.627]\n",
            "Validating Epoch 35: 100%|██████████| 82/82 [00:00<00:00, 221.61it/s, acc=0.774, loss=0.883, mean_loss=0.613]\n",
            "Epoch 36: 100%|██████████| 619/619 [00:03<00:00, 159.12it/s, acc=0.773, batch=618, loss=0.429, mean_loss=0.623]\n",
            "Validating Epoch 36: 100%|██████████| 82/82 [00:00<00:00, 247.37it/s, acc=0.763, loss=0.656, mean_loss=0.638]\n",
            "Epoch 37: 100%|██████████| 619/619 [00:03<00:00, 159.76it/s, acc=0.771, batch=618, loss=0.719, mean_loss=0.626]\n",
            "Validating Epoch 37: 100%|██████████| 82/82 [00:00<00:00, 231.34it/s, acc=0.771, loss=0.502, mean_loss=0.612]\n",
            "Epoch 38: 100%|██████████| 619/619 [00:03<00:00, 160.17it/s, acc=0.773, batch=618, loss=1.04, mean_loss=0.618]\n",
            "Validating Epoch 38: 100%|██████████| 82/82 [00:00<00:00, 242.00it/s, acc=0.774, loss=0.676, mean_loss=0.618]\n",
            "Epoch 39: 100%|██████████| 619/619 [00:03<00:00, 163.90it/s, acc=0.772, batch=618, loss=0.54, mean_loss=0.625]\n",
            "Validating Epoch 39: 100%|██████████| 82/82 [00:00<00:00, 223.59it/s, acc=0.771, loss=0.586, mean_loss=0.612]\n",
            "Epoch 40: 100%|██████████| 619/619 [00:03<00:00, 161.71it/s, acc=0.771, batch=618, loss=0.422, mean_loss=0.622]\n",
            "Validating Epoch 40: 100%|██████████| 82/82 [00:00<00:00, 211.74it/s, acc=0.771, loss=0.608, mean_loss=0.62]\n",
            "Epoch 41: 100%|██████████| 619/619 [00:03<00:00, 157.83it/s, acc=0.773, batch=618, loss=0.298, mean_loss=0.617]\n",
            "Validating Epoch 41: 100%|██████████| 82/82 [00:00<00:00, 211.24it/s, acc=0.77, loss=0.869, mean_loss=0.626]\n",
            "Epoch 42: 100%|██████████| 619/619 [00:03<00:00, 158.96it/s, acc=0.774, batch=618, loss=0.487, mean_loss=0.617]\n",
            "Validating Epoch 42: 100%|██████████| 82/82 [00:00<00:00, 253.17it/s, acc=0.78, loss=0.474, mean_loss=0.614]\n",
            "Epoch 43: 100%|██████████| 619/619 [00:03<00:00, 157.19it/s, acc=0.772, batch=618, loss=0.315, mean_loss=0.618]\n",
            "Validating Epoch 43: 100%|██████████| 82/82 [00:00<00:00, 271.45it/s, acc=0.776, loss=0.615, mean_loss=0.604]\n",
            "Epoch 44: 100%|██████████| 619/619 [00:03<00:00, 159.01it/s, acc=0.773, batch=618, loss=0.278, mean_loss=0.62]\n",
            "Validating Epoch 44: 100%|██████████| 82/82 [00:00<00:00, 254.64it/s, acc=0.773, loss=0.476, mean_loss=0.613]\n",
            "Epoch 45: 100%|██████████| 619/619 [00:03<00:00, 159.93it/s, acc=0.769, batch=618, loss=0.874, mean_loss=0.625]\n",
            "Validating Epoch 45: 100%|██████████| 82/82 [00:00<00:00, 207.59it/s, acc=0.77, loss=0.659, mean_loss=0.619]\n",
            "Epoch 46: 100%|██████████| 619/619 [00:03<00:00, 158.08it/s, acc=0.771, batch=618, loss=1, mean_loss=0.623]\n",
            "Validating Epoch 46: 100%|██████████| 82/82 [00:00<00:00, 221.07it/s, acc=0.769, loss=0.591, mean_loss=0.639]\n",
            "Epoch 47: 100%|██████████| 619/619 [00:04<00:00, 153.86it/s, acc=0.773, batch=618, loss=0.817, mean_loss=0.617]\n",
            "Validating Epoch 47: 100%|██████████| 82/82 [00:00<00:00, 232.75it/s, acc=0.77, loss=0.457, mean_loss=0.629]\n",
            "Epoch 48: 100%|██████████| 619/619 [00:03<00:00, 158.94it/s, acc=0.774, batch=618, loss=0.486, mean_loss=0.615]\n",
            "Validating Epoch 48: 100%|██████████| 82/82 [00:00<00:00, 215.47it/s, acc=0.78, loss=0.459, mean_loss=0.622]\n",
            "Epoch 49: 100%|██████████| 619/619 [00:03<00:00, 156.04it/s, acc=0.776, batch=618, loss=0.527, mean_loss=0.611]\n",
            "Validating Epoch 49: 100%|██████████| 82/82 [00:00<00:00, 223.96it/s, acc=0.775, loss=0.769, mean_loss=0.624]\n",
            "Epoch 50: 100%|██████████| 619/619 [00:03<00:00, 156.40it/s, acc=0.777, batch=618, loss=0.469, mean_loss=0.609]\n",
            "Validating Epoch 50: 100%|██████████| 82/82 [00:00<00:00, 219.39it/s, acc=0.777, loss=1, mean_loss=0.613]\n",
            "Epoch 51: 100%|██████████| 619/619 [00:03<00:00, 155.58it/s, acc=0.776, batch=618, loss=0.345, mean_loss=0.609]\n",
            "Validating Epoch 51: 100%|██████████| 82/82 [00:00<00:00, 218.80it/s, acc=0.778, loss=0.408, mean_loss=0.615]\n",
            "Epoch 52: 100%|██████████| 619/619 [00:03<00:00, 158.43it/s, acc=0.779, batch=618, loss=0.604, mean_loss=0.602]\n",
            "Validating Epoch 52: 100%|██████████| 82/82 [00:00<00:00, 233.84it/s, acc=0.774, loss=0.724, mean_loss=0.62]\n",
            "Epoch 53: 100%|██████████| 619/619 [00:03<00:00, 157.40it/s, acc=0.778, batch=618, loss=0.457, mean_loss=0.602]\n",
            "Validating Epoch 53: 100%|██████████| 82/82 [00:00<00:00, 222.11it/s, acc=0.78, loss=0.784, mean_loss=0.616]\n",
            "Epoch 54: 100%|██████████| 619/619 [00:03<00:00, 154.84it/s, acc=0.778, batch=618, loss=0.595, mean_loss=0.605]\n",
            "Validating Epoch 54: 100%|██████████| 82/82 [00:00<00:00, 292.67it/s, acc=0.776, loss=0.534, mean_loss=0.61]\n",
            "Epoch 55: 100%|██████████| 619/619 [00:03<00:00, 160.62it/s, acc=0.783, batch=618, loss=0.421, mean_loss=0.599]\n",
            "Validating Epoch 55: 100%|██████████| 82/82 [00:00<00:00, 237.68it/s, acc=0.771, loss=0.647, mean_loss=0.627]\n",
            "Evaluating: 100%|██████████| 137/137 [00:00<00:00, 225.98it/s, acc=0.784, loss=0.472, mean_loss=0.591]\n"
          ],
          "name": "stderr"
        }
      ]
    },
    {
      "cell_type": "code",
      "metadata": {
        "id": "iM_S9RRLVEG6"
      },
      "source": [
        "#Save State\n",
        "torch.save(model.state_dict, \"catnet.bin\")\n",
        "joblib.dump(data, \"train-state.data\")"
      ],
      "execution_count": null,
      "outputs": []
    },
    {
      "cell_type": "code",
      "metadata": {
        "id": "xGH_s_eVZNwS"
      },
      "source": [
        "def theme(figure, axList):\n",
        "    for ax in axList:\n",
        "        ax.spines['bottom'].set_color('white')\n",
        "        ax.spines['top'].set_color('white') \n",
        "        ax.spines['right'].set_color('white')\n",
        "        ax.spines['left'].set_color('white')\n",
        "        ax.xaxis.label.set_color('white')\n",
        "        ax.yaxis.label.set_color('white')\n",
        "        ax.tick_params(colors='white', which='both')\n",
        "        ax.set_facecolor(\"#0e101f\")\n",
        "        plt.setp(ax.get_title(), color='white')\n",
        "        legend = ax.get_legend()\n",
        "        if legend:\n",
        "            frame = legend.get_frame()\n",
        "            if frame:\n",
        "                frame.set_facecolor('#202446')\n",
        "                frame.set_edgecolor('#2D3262')\n",
        "            for text in legend.get_texts():\n",
        "                text.set_color(\"white\")\n",
        "    figure.set_facecolor(\"#0e101f\")"
      ],
      "execution_count": 34,
      "outputs": []
    },
    {
      "cell_type": "code",
      "metadata": {
        "id": "oKjoYMawZX4o"
      },
      "source": [
        "import matplotlib.pyplot as plt"
      ],
      "execution_count": 35,
      "outputs": []
    },
    {
      "cell_type": "code",
      "metadata": {
        "colab": {
          "base_uri": "https://localhost:8080/",
          "height": 537
        },
        "id": "tAjHqf-xZbe5",
        "outputId": "f3353a4e-e53b-4fd3-a939-91e4b6cb3d03"
      },
      "source": [
        "fig, axs = plt.subplots(2, 2, sharex=True, figsize=(20, 9))\n",
        "\n",
        "axs[0, 0].plot(torch.tensor(data[\"losses\"]).mean(axis=1), color=\"#F75590\", label=\"Loss\")\n",
        "axs[0, 0].legend(loc=\"upper right\")\n",
        "axs[0, 1].plot(torch.tensor(data[\"val_losses\"]), color=\"#FFF689\", label=\"Validation Loss\")\n",
        "axs[0, 1].legend(loc=\"upper right\")\n",
        "axs[1, 0].plot(torch.tensor(data[\"acc\"]).mean(axis=1), color=\"#3DB1F5\", label=\"Accuracy\")\n",
        "axs[1, 0].legend(loc=\"upper left\")\n",
        "axs[1, 1].plot(torch.tensor(data[\"val_acc\"]).mean(axis=1), color=\"#9EE493\", label=\"Validation Accuracy\")\n",
        "axs[1, 1].legend(loc=\"upper left\")\n",
        "\n",
        "theme(fig, [axs[0, 0], axs[0, 1], axs[1, 0], axs[1, 1]])"
      ],
      "execution_count": 36,
      "outputs": [
        {
          "output_type": "display_data",
          "data": {
            "image/png": "[encoded data removed]",
            "text/plain": [
              "<Figure size 1440x648 with 4 Axes>"
            ]
          },
          "metadata": {
            "tags": []
          }
        }
      ]
    },
    {
      "cell_type": "code",
      "metadata": {
        "colab": {
          "base_uri": "https://localhost:8080/"
        },
        "id": "ZQuvo9aBPcgm",
        "outputId": "2a61f1d0-07a2-46ac-8c60-6338f5b4a717"
      },
      "source": [
        "from sklearn.tree import DecisionTreeClassifier\n",
        "\n",
        "clf = DecisionTreeClassifier(random_state=0)\n",
        "clf.fit(X_train, y_train)"
      ],
      "execution_count": 37,
      "outputs": [
        {
          "output_type": "execute_result",
          "data": {
            "text/plain": [
              "DecisionTreeClassifier(ccp_alpha=0.0, class_weight=None, criterion='gini',\n",
              "                       max_depth=None, max_features=None, max_leaf_nodes=None,\n",
              "                       min_impurity_decrease=0.0, min_impurity_split=None,\n",
              "                       min_samples_leaf=1, min_samples_split=2,\n",
              "                       min_weight_fraction_leaf=0.0, presort='deprecated',\n",
              "                       random_state=0, splitter='best')"
            ]
          },
          "metadata": {
            "tags": []
          },
          "execution_count": 37
        }
      ]
    },
    {
      "cell_type": "code",
      "metadata": {
        "colab": {
          "base_uri": "https://localhost:8080/"
        },
        "id": "p0BAvvKOPwjq",
        "outputId": "1d97c376-1740-4d54-ad33-a8df2dd1ba24"
      },
      "source": [
        "from sklearn.metrics import accuracy_score\n",
        "\n",
        "y_pred = clf.predict(X_test)\n",
        "accuracy_score(y_test, y_pred)"
      ],
      "execution_count": 38,
      "outputs": [
        {
          "output_type": "execute_result",
          "data": {
            "text/plain": [
              "0.6145033795394661"
            ]
          },
          "metadata": {
            "tags": []
          },
          "execution_count": 38
        }
      ]
    },
    {
      "cell_type": "markdown",
      "metadata": {
        "id": "2P-WiN-ZYPep"
      },
      "source": [
        "#### Model Inference"
      ]
    },
    {
      "cell_type": "code",
      "metadata": {
        "id": "KFBINsaOlClv"
      },
      "source": [
        "def inferFeatures(text):\n",
        "    s = sent_tokenize(text)\n",
        "    xr = parFeatures(s)\n",
        "    return xr.mean(axis=0)"
      ],
      "execution_count": 39,
      "outputs": []
    },
    {
      "cell_type": "code",
      "metadata": {
        "id": "L3Vd5Zl0QDtL"
      },
      "source": [
        "def predictDT(text):\n",
        "    f = inferFeatures(text)\n",
        "    pred = clf.predict(f.unsqueeze(dim=0)) \n",
        "    return enc.inverse_transform(pred)[0]"
      ],
      "execution_count": 40,
      "outputs": []
    },
    {
      "cell_type": "code",
      "metadata": {
        "id": "Hprphl3KGMI4"
      },
      "source": [
        "def predictClass(text):\n",
        "    f = inferFeatures(text)\n",
        "    pred = model(f.unsqueeze(dim=0).to('cuda')) \n",
        "    cl = pred.argmax(dim=1, keepdim=True)[0]\n",
        "    return enc.inverse_transform(cl.cpu())[0]"
      ],
      "execution_count": 41,
      "outputs": []
    },
    {
      "cell_type": "code",
      "metadata": {
        "id": "Ucsv83fqlYgu",
        "colab": {
          "base_uri": "https://localhost:8080/"
        },
        "outputId": "19b11c7c-b334-49a2-b433-5d7dfea90056"
      },
      "source": [
        "text1 = \"\"\"What McDonald’s minimum wage raise says about fast-food franchise future.\n",
        "McDonald’s is among fast-food franchises to raise wages in a tight labor market and plans to reach an average of $15 an hour by 2024 at all company-owned restaurants.\n",
        "Competition for workers is intense and food franchises like McDonald’s and Chipotle are competing with retailers like Amazon, Walmart and Target, McDonald’s CEO Chris Kempczinski noted in a recent CNBC Evolve interview.\n",
        "\"\"\"\n",
        "print(\"Neural Net:\", predictClass(text1))\n",
        "print(\"Decision Tree:\", predictClass(text1))"
      ],
      "execution_count": 44,
      "outputs": [
        {
          "output_type": "stream",
          "text": [
            "Neural Net: business\n",
            "Decision Tree: business\n"
          ],
          "name": "stdout"
        }
      ]
    },
    {
      "cell_type": "code",
      "metadata": {
        "id": "oD_AcV-AoBXe",
        "colab": {
          "base_uri": "https://localhost:8080/"
        },
        "outputId": "e5eacb68-d585-41a9-9b16-1401a6cf887d"
      },
      "source": [
        "text2 = \"\"\"Biden presses Putin to disrupt cybercriminals in Russia as U.S. grapples with latest ransomware attacks.\n",
        "President Joe Biden pressed Russian President Vladimir Putin in a phone call Friday to take action to stem recent ransomware attacks from Russia-based groups.\n",
        "The call came just days after a massive new cyberattack by the group REvil, believed to be based in Russia.\n",
        "\"\"\"\n",
        "print(\"Neural Net:\", predictClass(text2))\n",
        "print(\"Decision Tree:\", predictClass(text2))"
      ],
      "execution_count": 45,
      "outputs": [
        {
          "output_type": "stream",
          "text": [
            "Neural Net: politics\n",
            "Decision Tree: business\n"
          ],
          "name": "stdout"
        }
      ]
    },
    {
      "cell_type": "code",
      "metadata": {
        "id": "F1iroqryr2hF",
        "colab": {
          "base_uri": "https://localhost:8080/"
        },
        "outputId": "25038f2f-c406-4041-a73f-48bc08926d62"
      },
      "source": [
        "text3 = \"\"\"\n",
        "Biden fires Social Security Commissioner Andrew Saul, who says he isn't leaving.\n",
        "Saul was one of the few remaining federal appointees from former President Donald Trump’s administration.\n",
        "President Biden fired Social Security Commissioner Andrew Saul on Friday amid an ongoing dispute over his leadership of the independent agency responsible for administering retirement and disability benefits.\n",
        "\"\"\"\n",
        "print(\"Neural Net:\", predictClass(text3))\n",
        "print(\"Decision Tree:\", predictClass(text3))"
      ],
      "execution_count": 46,
      "outputs": [
        {
          "output_type": "stream",
          "text": [
            "Neural Net: politics\n",
            "Decision Tree: politics\n"
          ],
          "name": "stdout"
        }
      ]
    },
    {
      "cell_type": "code",
      "metadata": {
        "id": "TygThFvFobf0",
        "colab": {
          "base_uri": "https://localhost:8080/"
        },
        "outputId": "c222e160-8869-4c26-f834-b4ba7d73e5f9"
      },
      "source": [
        "text4 = \"\"\"U.S. military mission in Afghanistan will end by August 31, Biden says.\n",
        "President Joe Biden says the 20-year U.S. military mission in Afghanistan will end by August 31.\n",
        "“We did not go to Afghanistan to nation build,” Biden says.\n",
        "“It’s up to the Afghans to make decisions about the future of their country,” says Biden, who announced in April the planned departure of U.S. forces.\n",
        "\"\"\"\n",
        "print(\"Neural Net:\", predictClass(text4))\n",
        "print(\"Decision Tree:\", predictClass(text4))"
      ],
      "execution_count": 47,
      "outputs": [
        {
          "output_type": "stream",
          "text": [
            "Neural Net: politics\n",
            "Decision Tree: politics\n"
          ],
          "name": "stdout"
        }
      ]
    },
    {
      "cell_type": "code",
      "metadata": {
        "id": "uA14Tasxo72c",
        "colab": {
          "base_uri": "https://localhost:8080/"
        },
        "outputId": "b0b0f539-5158-4055-e42c-39abdc002b20"
      },
      "source": [
        "text5 = \"\"\"\n",
        "To home or Rome? England takes on Italy to end title drought.\n",
        "\"Maybe at 36 you feel it more,\" Chiellini said, \"because you understand more how hard it is and the work that goes into it.\"\n",
        "\n",
        "The European Championship final on Sunday pits England, which hasn’t even reached a final since winning the 1966 World Cup, against one of the continent’s most decorated teams.\n",
        "\n",
        "The last of Italy’s four World Cup victories came in 2006, when Chiellini had already made his international debut but didn’t play at the tournament. But the team is a comparative underachiever in the European Championship with its only title in 1968.\n",
        "\n",
        "\"\"\"\n",
        "print(\"Neural Net:\", predictClass(text5))\n",
        "print(\"Decision Tree:\", predictClass(text5))"
      ],
      "execution_count": 48,
      "outputs": [
        {
          "output_type": "stream",
          "text": [
            "Neural Net: sport\n",
            "Decision Tree: sport\n"
          ],
          "name": "stdout"
        }
      ]
    },
    {
      "cell_type": "markdown",
      "metadata": {
        "id": "q5Hg7eeWYWDH"
      },
      "source": [
        "### Find k-Near Related Posts"
      ]
    },
    {
      "cell_type": "code",
      "metadata": {
        "colab": {
          "base_uri": "https://localhost:8080/"
        },
        "id": "fMeLD0Q0sfNw",
        "outputId": "bbae83c9-54ad-4be3-93bf-2f2183dc69c3"
      },
      "source": [
        "from sklearn.neighbors import NearestNeighbors\n",
        "neigh = NearestNeighbors(n_neighbors=5)\n",
        "neigh.fit(X)"
      ],
      "execution_count": 49,
      "outputs": [
        {
          "output_type": "execute_result",
          "data": {
            "text/plain": [
              "NearestNeighbors(algorithm='auto', leaf_size=30, metric='minkowski',\n",
              "                 metric_params=None, n_jobs=None, n_neighbors=5, p=2,\n",
              "                 radius=1.0)"
            ]
          },
          "metadata": {
            "tags": []
          },
          "execution_count": 49
        }
      ]
    },
    {
      "cell_type": "code",
      "metadata": {
        "id": "uUi4_ypxtxH5"
      },
      "source": [
        "d , idx = neigh.kneighbors(X[0].unsqueeze(dim=0), 5, return_distance=True)"
      ],
      "execution_count": 50,
      "outputs": []
    },
    {
      "cell_type": "code",
      "metadata": {
        "colab": {
          "base_uri": "https://localhost:8080/",
          "height": 204
        },
        "id": "_Kz3uCAGuDqt",
        "outputId": "bc07292a-ef5d-4e37-8990-0a49c7596a81"
      },
      "source": [
        "ndf.iloc[idx[0]]"
      ],
      "execution_count": 51,
      "outputs": [
        {
          "output_type": "execute_result",
          "data": {
            "text/html": [
              "<div>\n",
              "<style scoped>\n",
              "    .dataframe tbody tr th:only-of-type {\n",
              "        vertical-align: middle;\n",
              "    }\n",
              "\n",
              "    .dataframe tbody tr th {\n",
              "        vertical-align: top;\n",
              "    }\n",
              "\n",
              "    .dataframe thead th {\n",
              "        text-align: right;\n",
              "    }\n",
              "</style>\n",
              "<table border=\"1\" class=\"dataframe\">\n",
              "  <thead>\n",
              "    <tr style=\"text-align: right;\">\n",
              "      <th></th>\n",
              "      <th>id</th>\n",
              "      <th>article</th>\n",
              "      <th>summary</th>\n",
              "      <th>cat</th>\n",
              "      <th>tokens</th>\n",
              "      <th>catn</th>\n",
              "    </tr>\n",
              "  </thead>\n",
              "  <tbody>\n",
              "    <tr>\n",
              "      <th>0</th>\n",
              "      <td>0</td>\n",
              "      <td>Ad sales boost Time Warner profit\\n\\nQuarterly...</td>\n",
              "      <td>TimeWarner said fourth quarter sales rose 2% t...</td>\n",
              "      <td>business</td>\n",
              "      <td>[Ad sales boost Time Warner profit., Quarterly...</td>\n",
              "      <td>0</td>\n",
              "    </tr>\n",
              "    <tr>\n",
              "      <th>232</th>\n",
              "      <td>232</td>\n",
              "      <td>Krispy Kreme shares hit\\n\\nShares in Krispy Kr...</td>\n",
              "      <td>Shares in Krispy Kreme Doughnuts have taken a ...</td>\n",
              "      <td>business</td>\n",
              "      <td>[Krispy Kreme shares hit., Shares in Krispy Kr...</td>\n",
              "      <td>0</td>\n",
              "    </tr>\n",
              "    <tr>\n",
              "      <th>269</th>\n",
              "      <td>269</td>\n",
              "      <td>Nortel in $300m profit revision\\n\\nTelecoms eq...</td>\n",
              "      <td>\"With the completion of our restatements we ha...</td>\n",
              "      <td>business</td>\n",
              "      <td>[Nortel in $300m profit revision., Telecoms eq...</td>\n",
              "      <td>0</td>\n",
              "    </tr>\n",
              "    <tr>\n",
              "      <th>147</th>\n",
              "      <td>147</td>\n",
              "      <td>Dutch bank to lay off 2,850 staff\\n\\nABN Amro,...</td>\n",
              "      <td>ABN Amro, the Netherlands' largest bank, is to...</td>\n",
              "      <td>business</td>\n",
              "      <td>[Dutch bank to lay off 2,850 staff., ABN Amro,...</td>\n",
              "      <td>0</td>\n",
              "    </tr>\n",
              "    <tr>\n",
              "      <th>160</th>\n",
              "      <td>160</td>\n",
              "      <td>Strong quarterly growth for Nike\\n\\nNike has r...</td>\n",
              "      <td>That is 9.1% higher than such orders reported ...</td>\n",
              "      <td>business</td>\n",
              "      <td>[Strong quarterly growth for Nike., Nike has r...</td>\n",
              "      <td>0</td>\n",
              "    </tr>\n",
              "  </tbody>\n",
              "</table>\n",
              "</div>"
            ],
            "text/plain": [
              "      id  ... catn\n",
              "0      0  ...    0\n",
              "232  232  ...    0\n",
              "269  269  ...    0\n",
              "147  147  ...    0\n",
              "160  160  ...    0\n",
              "\n",
              "[5 rows x 6 columns]"
            ]
          },
          "metadata": {
            "tags": []
          },
          "execution_count": 51
        }
      ]
    },
    {
      "cell_type": "code",
      "metadata": {
        "id": "pE0Yzh4jXKB3"
      },
      "source": [
        "def kNearPosts(text, k=5):\n",
        "    Q = inferFeatures(text)\n",
        "    d , idx = neigh.kneighbors(Q.unsqueeze(dim=0), k, return_distance=True)\n",
        "    return ndf.iloc[idx[0]]"
      ],
      "execution_count": 52,
      "outputs": []
    },
    {
      "cell_type": "code",
      "metadata": {
        "colab": {
          "base_uri": "https://localhost:8080/",
          "height": 204
        },
        "id": "L8ab-dQpXXKf",
        "outputId": "b35a61a3-ad94-4169-ca89-a2d5d616e528"
      },
      "source": [
        "kNearPosts(\"Stocks market bullish trend\")"
      ],
      "execution_count": 53,
      "outputs": [
        {
          "output_type": "execute_result",
          "data": {
            "text/html": [
              "<div>\n",
              "<style scoped>\n",
              "    .dataframe tbody tr th:only-of-type {\n",
              "        vertical-align: middle;\n",
              "    }\n",
              "\n",
              "    .dataframe tbody tr th {\n",
              "        vertical-align: top;\n",
              "    }\n",
              "\n",
              "    .dataframe thead th {\n",
              "        text-align: right;\n",
              "    }\n",
              "</style>\n",
              "<table border=\"1\" class=\"dataframe\">\n",
              "  <thead>\n",
              "    <tr style=\"text-align: right;\">\n",
              "      <th></th>\n",
              "      <th>id</th>\n",
              "      <th>article</th>\n",
              "      <th>summary</th>\n",
              "      <th>cat</th>\n",
              "      <th>tokens</th>\n",
              "      <th>catn</th>\n",
              "    </tr>\n",
              "  </thead>\n",
              "  <tbody>\n",
              "    <tr>\n",
              "      <th>102</th>\n",
              "      <td>102</td>\n",
              "      <td>Cars pull down US retail figures\\n\\nUS retail ...</td>\n",
              "      <td>Excluding the car sector, US retail sales were...</td>\n",
              "      <td>business</td>\n",
              "      <td>[Cars pull down US retail figures., US retail ...</td>\n",
              "      <td>0</td>\n",
              "    </tr>\n",
              "    <tr>\n",
              "      <th>1820</th>\n",
              "      <td>1820</td>\n",
              "      <td>Almagro continues Spanish surge\\n\\nUnseeded Ni...</td>\n",
              "      <td>Nadal, playing in the outdoor clay event for t...</td>\n",
              "      <td>sport</td>\n",
              "      <td>[Almagro continues Spanish surge., Unseeded Ni...</td>\n",
              "      <td>3</td>\n",
              "    </tr>\n",
              "    <tr>\n",
              "      <th>444</th>\n",
              "      <td>444</td>\n",
              "      <td>Ericsson sees earnings improve\\n\\nTelecoms equ...</td>\n",
              "      <td>For the whole of 2004, Ericsson returned a net...</td>\n",
              "      <td>business</td>\n",
              "      <td>[Ericsson sees earnings improve., Telecoms equ...</td>\n",
              "      <td>0</td>\n",
              "    </tr>\n",
              "    <tr>\n",
              "      <th>92</th>\n",
              "      <td>92</td>\n",
              "      <td>Asian quake hits European shares\\n\\nShares in ...</td>\n",
              "      <td>The unfolding scale of the disaster in south A...</td>\n",
              "      <td>business</td>\n",
              "      <td>[Asian quake hits European shares., Shares in ...</td>\n",
              "      <td>0</td>\n",
              "    </tr>\n",
              "    <tr>\n",
              "      <th>1531</th>\n",
              "      <td>1531</td>\n",
              "      <td>Yeading face Newcastle in FA Cup\\n\\nPremiershi...</td>\n",
              "      <td>Premiership side Newcastle United face a trip ...</td>\n",
              "      <td>sport</td>\n",
              "      <td>[Yeading face Newcastle in FA Cup., Premiershi...</td>\n",
              "      <td>3</td>\n",
              "    </tr>\n",
              "  </tbody>\n",
              "</table>\n",
              "</div>"
            ],
            "text/plain": [
              "        id  ... catn\n",
              "102    102  ...    0\n",
              "1820  1820  ...    3\n",
              "444    444  ...    0\n",
              "92      92  ...    0\n",
              "1531  1531  ...    3\n",
              "\n",
              "[5 rows x 6 columns]"
            ]
          },
          "metadata": {
            "tags": []
          },
          "execution_count": 53
        }
      ]
    },
    {
      "cell_type": "code",
      "metadata": {
        "colab": {
          "base_uri": "https://localhost:8080/",
          "height": 204
        },
        "id": "F-OGL2J8Xc8r",
        "outputId": "c0573086-a0ef-4d4f-eb09-baa3a4856c0f"
      },
      "source": [
        "kNearPosts(\"Afghanistan War and Terrorism Activities in It\")"
      ],
      "execution_count": 54,
      "outputs": [
        {
          "output_type": "execute_result",
          "data": {
            "text/html": [
              "<div>\n",
              "<style scoped>\n",
              "    .dataframe tbody tr th:only-of-type {\n",
              "        vertical-align: middle;\n",
              "    }\n",
              "\n",
              "    .dataframe tbody tr th {\n",
              "        vertical-align: top;\n",
              "    }\n",
              "\n",
              "    .dataframe thead th {\n",
              "        text-align: right;\n",
              "    }\n",
              "</style>\n",
              "<table border=\"1\" class=\"dataframe\">\n",
              "  <thead>\n",
              "    <tr style=\"text-align: right;\">\n",
              "      <th></th>\n",
              "      <th>id</th>\n",
              "      <th>article</th>\n",
              "      <th>summary</th>\n",
              "      <th>cat</th>\n",
              "      <th>tokens</th>\n",
              "      <th>catn</th>\n",
              "    </tr>\n",
              "  </thead>\n",
              "  <tbody>\n",
              "    <tr>\n",
              "      <th>204</th>\n",
              "      <td>204</td>\n",
              "      <td>Soros group warns of Kazakh close\\n\\nThe Open ...</td>\n",
              "      <td>The Open Society Institute (OSI), financed by ...</td>\n",
              "      <td>business</td>\n",
              "      <td>[Soros group warns of Kazakh close., The Open ...</td>\n",
              "      <td>0</td>\n",
              "    </tr>\n",
              "    <tr>\n",
              "      <th>1036</th>\n",
              "      <td>1036</td>\n",
              "      <td>UK troops on Ivory Coast standby\\n\\nDowning St...</td>\n",
              "      <td>Downing Street has confirmed British troops ar...</td>\n",
              "      <td>politics</td>\n",
              "      <td>[UK troops on Ivory Coast standby., Downing St...</td>\n",
              "      <td>2</td>\n",
              "    </tr>\n",
              "    <tr>\n",
              "      <th>1111</th>\n",
              "      <td>1111</td>\n",
              "      <td>February poll claim 'speculation'\\n\\nReports t...</td>\n",
              "      <td>A British general election was last held in Fe...</td>\n",
              "      <td>politics</td>\n",
              "      <td>[February poll claim 'speculation'., Reports t...</td>\n",
              "      <td>2</td>\n",
              "    </tr>\n",
              "    <tr>\n",
              "      <th>913</th>\n",
              "      <td>913</td>\n",
              "      <td>Straw to attend Auschwitz service\\n\\nForeign S...</td>\n",
              "      <td>Shadow Foreign Secretary Michael Ancram said: ...</td>\n",
              "      <td>politics</td>\n",
              "      <td>[Straw to attend Auschwitz service., Foreign S...</td>\n",
              "      <td>2</td>\n",
              "    </tr>\n",
              "    <tr>\n",
              "      <th>278</th>\n",
              "      <td>278</td>\n",
              "      <td>Asia quake increases poverty risk\\n\\nNearly tw...</td>\n",
              "      <td>Nearly two million people across Asia could be...</td>\n",
              "      <td>business</td>\n",
              "      <td>[Asia quake increases poverty risk., Nearly tw...</td>\n",
              "      <td>0</td>\n",
              "    </tr>\n",
              "  </tbody>\n",
              "</table>\n",
              "</div>"
            ],
            "text/plain": [
              "        id  ... catn\n",
              "204    204  ...    0\n",
              "1036  1036  ...    2\n",
              "1111  1111  ...    2\n",
              "913    913  ...    2\n",
              "278    278  ...    0\n",
              "\n",
              "[5 rows x 6 columns]"
            ]
          },
          "metadata": {
            "tags": []
          },
          "execution_count": 54
        }
      ]
    }
  ]
}